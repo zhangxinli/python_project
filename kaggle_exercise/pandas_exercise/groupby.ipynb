{
  "cells": [
    {
      "metadata": {
        "collapsed": true,
        "_uuid": "41ef69316a31179d29efa9126830d49db18ee849",
        "_cell_guid": "7d2c0bed-e234-4ed9-8418-50e2d4f261ce"
      },
      "cell_type": "markdown",
      "source": "# Introduction\nMaps allow us to transform data in a `DataFrame` or `Series` one value at a time for an entire column. However, often we want to group our data, and then do something specific to the group the data is in. We do this with the `groupby` operation.\n\nIn these exercises we'll apply groupwise analysis to our dataset.\n\n# Relevant Resources\n- [**Grouping Reference and Examples**](https://www.kaggle.com/residentmario/grouping-and-sorting-reference).  \n- [Pandas cheat sheet](https://github.com/pandas-dev/pandas/blob/master/doc/cheatsheet/Pandas_Cheat_Sheet.pdf)"
    },
    {
      "metadata": {
        "_uuid": "cb1679d86e31ae07cae65734991dedc256477670",
        "_cell_guid": "8074a545-93e4-444d-97c3-5072424b82af"
      },
      "cell_type": "markdown",
      "source": "# Set Up\nRun the code cell below to load the data before running the exercises."
    },
    {
      "metadata": {
        "_uuid": "e2998b16c588cea8cfc151e8ea30e9c743715def",
        "_cell_guid": "eeb0c820-9b90-427b-9ffe-5f19284612f6",
        "trusted": true
      },
      "cell_type": "code",
      "source": "import pandas as pd\nfrom learntools.advanced_pandas.grouping_and_sorting import *\n\nreviews = pd.read_csv(\"../input/wine-reviews/winemag-data-130k-v2.csv\", index_col=0)\npd.set_option(\"display.max_rows\", 5)",
      "execution_count": 273,
      "outputs": []
    },
    {
      "metadata": {
        "_uuid": "c21ce253d787d7bb0f48ac3dcb0bd7529f3f86e8",
        "_cell_guid": "a2d79f51-1a14-45e8-ba9b-e22f267c4276"
      },
      "cell_type": "markdown",
      "source": "# Checking Your Answers\n\n**Check your answers in each exercise using the  `check_qN` function** (replacing `N` with the number of the exercise). For example here's how you would check an incorrect answer to exercise 1:"
    },
    {
      "metadata": {
        "_uuid": "d47f23574b313bd142ca2aef155f899c7517a2be",
        "_cell_guid": "00da2801-5ca8-4450-b5a7-5da3b3c169c9",
        "trusted": true
      },
      "cell_type": "code",
      "source": "pd.DataFrame()\ncheck_q1(pd.DataFrame())",
      "execution_count": 274,
      "outputs": [
        {
          "output_type": "execute_result",
          "execution_count": 274,
          "data": {
            "text/plain": "False"
          },
          "metadata": {}
        }
      ]
    },
    {
      "metadata": {
        "_uuid": "42020602eae94c3ebc5ca1108396523c8b3e9c7c",
        "_cell_guid": "14c9fa0b-51a0-46bb-81bd-258939cb091e"
      },
      "cell_type": "markdown",
      "source": "If you get stuck, **use the `answer_qN` function to see the code with the correct answer.**\n\nFor the first set of questions, running the `check_qN` on the correct answer returns `True`.\nFor the second set of questions, using this function to check a correct answer will present an informative graph!"
    },
    {
      "metadata": {
        "_uuid": "8a2e7c4cbc0c359f16913ef0e86a6a479b5ce276",
        "_cell_guid": "621631ef-b69c-4b85-823a-f713c6894a49"
      },
      "cell_type": "markdown",
      "source": "# Exercises"
    },
    {
      "metadata": {
        "_uuid": "ceae4b627d78a83b3a8c14ba5010462b24f63e15",
        "_cell_guid": "45bbcdb0-ffce-4db5-aa8e-08cc59d25096"
      },
      "cell_type": "markdown",
      "source": "**Exercise 1**: Who are the most common wine reviewers in the dataset? Create a `Series` whose index is the `taster_twitter_handle` category from the dataset, and whose values count how many reviews each person wrote."
    },
    {
      "metadata": {
        "_uuid": "2bd63076e7282aba33ca05d81414a327b25791f4",
        "_cell_guid": "3dca18bc-cdb8-4006-be38-39ccbe09dc22",
        "trusted": true
      },
      "cell_type": "code",
      "source": "# Your code here\ncheck_q1(reviews.groupby('taster_twitter_handle').count().max(axis=1))\n# common_wine_reviewers = _______\n# check_q1(common_wine_reviewers)\n\nreviews[['price','points']]",
      "execution_count": 275,
      "outputs": [
        {
          "output_type": "execute_result",
          "execution_count": 275,
          "data": {
            "text/plain": "        price  points\n0         NaN      87\n1        15.0      87\n...       ...     ...\n129969   32.0      90\n129970   21.0      90\n\n[129971 rows x 2 columns]",
            "text/html": "<div>\n<style scoped>\n    .dataframe tbody tr th:only-of-type {\n        vertical-align: middle;\n    }\n\n    .dataframe tbody tr th {\n        vertical-align: top;\n    }\n\n    .dataframe thead th {\n        text-align: right;\n    }\n</style>\n<table border=\"1\" class=\"dataframe\">\n  <thead>\n    <tr style=\"text-align: right;\">\n      <th></th>\n      <th>price</th>\n      <th>points</th>\n    </tr>\n  </thead>\n  <tbody>\n    <tr>\n      <th>0</th>\n      <td>NaN</td>\n      <td>87</td>\n    </tr>\n    <tr>\n      <th>1</th>\n      <td>15.0</td>\n      <td>87</td>\n    </tr>\n    <tr>\n      <th>...</th>\n      <td>...</td>\n      <td>...</td>\n    </tr>\n    <tr>\n      <th>129969</th>\n      <td>32.0</td>\n      <td>90</td>\n    </tr>\n    <tr>\n      <th>129970</th>\n      <td>21.0</td>\n      <td>90</td>\n    </tr>\n  </tbody>\n</table>\n<p>129971 rows × 2 columns</p>\n</div>"
          },
          "metadata": {}
        }
      ]
    },
    {
      "metadata": {
        "_uuid": "e4a10285c994991a6d5194a61d58816a1e46c4b5",
        "_cell_guid": "75a00eac-7227-4bba-8998-634e847f8df8"
      },
      "cell_type": "markdown",
      "source": "**Exercise 2**: What is the best wine I can buy for a given amount of money? Create a `Series` whose index is wine prices and whose values is the maximum number of points a wine costing that much was given in a review. Sort the valeus by price, ascending (so that `4.0` dollars is at the top and `3300.0` dollars is at the bottom)."
    },
    {
      "metadata": {
        "_uuid": "00d5df0828a08419bc934dc4795a26d067337b1e",
        "_cell_guid": "0fd24c2d-6682-447e-b7bf-fd8bc56b09a2",
        "trusted": true
      },
      "cell_type": "code",
      "source": "# Your code here\n# best_wine = ______\n# check_q2(best_wine)\ncheck_q2(reviews.groupby('price').points.max())",
      "execution_count": 276,
      "outputs": [
        {
          "output_type": "execute_result",
          "execution_count": 276,
          "data": {
            "text/plain": "True"
          },
          "metadata": {}
        }
      ]
    },
    {
      "metadata": {
        "_uuid": "24d0a38c0f999fcbe2085b55e60d5c0176bc6916",
        "_cell_guid": "25b51ad3-a410-43a5-9c19-cd321719e7d3"
      },
      "cell_type": "markdown",
      "source": "**Exercise 3**: What are the minimum and maximum prices for each `variety` of wine? Create a `DataFrame` whose index is the `variety` category from the dataset and whose values are the `min` and `max` values thereof."
    },
    {
      "metadata": {
        "_uuid": "f07cc8572c1646ac57c53f80315eebb15f76d52f",
        "_cell_guid": "8b9703f8-5965-40b4-b7a7-7260c01a2eab",
        "trusted": true
      },
      "cell_type": "code",
      "source": "# Your code here\n# wine_price_extremes = _____\n# check_q3(wine_price_extremes)\ncheck_q3(reviews.groupby('variety').price.agg(['min','max']))",
      "execution_count": 277,
      "outputs": [
        {
          "output_type": "execute_result",
          "execution_count": 277,
          "data": {
            "text/plain": "True"
          },
          "metadata": {}
        }
      ]
    },
    {
      "metadata": {
        "_uuid": "cabccb4231a824d25692a9b4d60ae1752f4608aa",
        "_cell_guid": "fc823a15-f6de-4355-9a9d-e3c1ffc79155"
      },
      "cell_type": "markdown",
      "source": "The rest of the exercises are visual.\n\n**Exercise 4**: Are there significant differences in the average scores assigned by the various reviewers? Create a `Series` whose index is reviewers and whose values is the  review score given out by that reviewer. Hint: you will need the `taster_name` and `points` columns."
    },
    {
      "metadata": {
        "_uuid": "c8a99c4e3bbe35e9784448131beebe773c6467b8",
        "_cell_guid": "7b3edc07-fdd3-40eb-a868-83ea2ba3c88d",
        "trusted": true
      },
      "cell_type": "code",
      "source": "# Your code here\n# reviewer_mean_ratings = _____\n# check_q4(reviewer_mean_ratings)\ncheck_q4(reviews.groupby('taster_name').points.mean())",
      "execution_count": 278,
      "outputs": [
        {
          "output_type": "execute_result",
          "execution_count": 278,
          "data": {
            "text/plain": "<matplotlib.axes._subplots.AxesSubplot at 0x7febc4235780>"
          },
          "metadata": {}
        },
        {
          "output_type": "display_data",
          "data": {
            "text/plain": "<Figure size 432x288 with 1 Axes>",
            "image/png": "[encoded data removed]"
          },
          "metadata": {
            "needs_background": "light"
          }
        }
      ]
    },
    {
      "metadata": {
        "_uuid": "a1dbab04b493906ace97813c3bb9cc70445cb77d",
        "_cell_guid": "746f335e-f558-4c87-bc7d-a3153029e1c4"
      },
      "cell_type": "markdown",
      "source": "**Exercise 5**: What are the most expensive wine varieties? Create a `DataFrame` whose index is wine varieties and whose values are columns with the `min` and the `max` price of wines of this variety. Sort in descending order based on `min` first, `max` second."
    },
    {
      "metadata": {
        "_uuid": "867fbedd2147a388be82341867138b97afcfab8f",
        "_cell_guid": "a579a539-0bfa-489b-84c3-abf4ea3c5c86",
        "trusted": true
      },
      "cell_type": "code",
      "source": "# Your code here\n# wine_price_range = ____\n# check_q5(wine_price_range)\ncheck_q5(reviews.groupby('variety').price.agg(['min','max']).sort_values(['min','max'],ascending=True))\n",
      "execution_count": 279,
      "outputs": [
        {
          "output_type": "execute_result",
          "execution_count": 279,
          "data": {
            "text/plain": "False"
          },
          "metadata": {}
        }
      ]
    },
    {
      "metadata": {
        "_uuid": "8a064d8e2da7085f9d6fd2882cc45a7885e9a8cf",
        "_cell_guid": "79671bbe-de91-4c2b-b677-cb8475a64548"
      },
      "cell_type": "markdown",
      "source": "**Exercise 6**: What combination of countries and varieties are most common? Create a `Series` whose index is a `MultiIndex`of `{country, variety}` pairs. For example, a pinot noir produced in the US should map to `{\"US\", \"Pinot Noir\"}`. Sort the values in the `Series` in descending order based on wine count.\n\nHint: first run `reviews['n'] = 0`. Then `groupby` the dataset and run something on the column `n`. You won't need `reset_index`."
    },
    {
      "metadata": {
        "_uuid": "d5d18245090702c6096b7d2ee986f228bc546917",
        "_cell_guid": "96bd2a15-0ad0-4f8c-b961-9de8d36d276f",
        "trusted": true
      },
      "cell_type": "code",
      "source": "# Your code here\n# country_variety_pairs = _____\n# check_q6(country_variety_pairs)\nreviews['n'] = 0\ncheck_q6(reviews.groupby(['country', 'variety']).n.count().sort_values(ascending=False))",
      "execution_count": 280,
      "outputs": [
        {
          "output_type": "execute_result",
          "execution_count": 280,
          "data": {
            "text/plain": "<matplotlib.axes._subplots.AxesSubplot at 0x7febc7c649b0>"
          },
          "metadata": {}
        },
        {
          "output_type": "display_data",
          "data": {
            "text/plain": "<Figure size 432x288 with 1 Axes>",
            "image/png": "[encoded data removed]"
          },
          "metadata": {
            "needs_background": "light"
          }
        }
      ]
    },
    {
      "metadata": {
        "_uuid": "822140aec7f254c7845df8237525bb4d944f6871",
        "_cell_guid": "877e843c-f13c-4cf1-88de-efec90c72ff2"
      },
      "cell_type": "markdown",
      "source": "# Keep Going\n\nMove on to [**Data types and missing data workbook**](https://www.kaggle.com/kernels/fork/598826).\n\n___\nThis is part of the [*Learn Pandas*](https://www.kaggle.com/learn/pandas) series."
    }
  ],
  "metadata": {
    "language_info": {
      "name": "python",
      "version": "3.6.6",
      "mimetype": "text/x-python",
      "codemirror_mode": {
        "name": "ipython",
        "version": 3
      },
      "pygments_lexer": "ipython3",
      "nbconvert_exporter": "python",
      "file_extension": ".py"
    },
    "kernelspec": {
      "display_name": "Python 3",
      "language": "python",
      "name": "python3"
    }
  },
  "nbformat": 4,
  "nbformat_minor": 1
}